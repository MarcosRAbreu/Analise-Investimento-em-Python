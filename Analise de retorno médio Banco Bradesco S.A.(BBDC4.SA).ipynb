{
 "cells": [
  {
   "cell_type": "code",
   "execution_count": 1,
   "metadata": {},
   "outputs": [],
   "source": [
    "import numpy as np\n",
    "from pandas_datareader import data as wb\n",
    "import matplotlib.pyplot as plt"
   ]
  },
  {
   "cell_type": "code",
   "execution_count": 2,
   "metadata": {},
   "outputs": [],
   "source": [
    "BBDC4 = wb.DataReader('BBDC4.SA', data_source='yahoo', start='1995-1-1')"
   ]
  },
  {
   "cell_type": "code",
   "execution_count": 3,
   "metadata": {},
   "outputs": [
    {
     "data": {
      "text/html": [
       "<div>\n",
       "<style scoped>\n",
       "    .dataframe tbody tr th:only-of-type {\n",
       "        vertical-align: middle;\n",
       "    }\n",
       "\n",
       "    .dataframe tbody tr th {\n",
       "        vertical-align: top;\n",
       "    }\n",
       "\n",
       "    .dataframe thead th {\n",
       "        text-align: right;\n",
       "    }\n",
       "</style>\n",
       "<table border=\"1\" class=\"dataframe\">\n",
       "  <thead>\n",
       "    <tr style=\"text-align: right;\">\n",
       "      <th></th>\n",
       "      <th>High</th>\n",
       "      <th>Low</th>\n",
       "      <th>Open</th>\n",
       "      <th>Close</th>\n",
       "      <th>Volume</th>\n",
       "      <th>Adj Close</th>\n",
       "    </tr>\n",
       "    <tr>\n",
       "      <th>Date</th>\n",
       "      <th></th>\n",
       "      <th></th>\n",
       "      <th></th>\n",
       "      <th></th>\n",
       "      <th></th>\n",
       "      <th></th>\n",
       "    </tr>\n",
       "  </thead>\n",
       "  <tbody>\n",
       "    <tr>\n",
       "      <th>2008-01-02</th>\n",
       "      <td>23.635300</td>\n",
       "      <td>21.989300</td>\n",
       "      <td>23.535601</td>\n",
       "      <td>22.030800</td>\n",
       "      <td>0.0</td>\n",
       "      <td>13.887634</td>\n",
       "    </tr>\n",
       "    <tr>\n",
       "      <th>2008-01-03</th>\n",
       "      <td>22.317699</td>\n",
       "      <td>21.490499</td>\n",
       "      <td>22.114000</td>\n",
       "      <td>21.577700</td>\n",
       "      <td>0.0</td>\n",
       "      <td>13.612426</td>\n",
       "    </tr>\n",
       "    <tr>\n",
       "      <th>2008-01-04</th>\n",
       "      <td>21.968500</td>\n",
       "      <td>21.137100</td>\n",
       "      <td>21.781401</td>\n",
       "      <td>21.324200</td>\n",
       "      <td>5694095.0</td>\n",
       "      <td>13.452513</td>\n",
       "    </tr>\n",
       "    <tr>\n",
       "      <th>2008-01-07</th>\n",
       "      <td>21.993401</td>\n",
       "      <td>21.415600</td>\n",
       "      <td>21.428101</td>\n",
       "      <td>21.719101</td>\n",
       "      <td>0.0</td>\n",
       "      <td>13.701629</td>\n",
       "    </tr>\n",
       "    <tr>\n",
       "      <th>2008-01-08</th>\n",
       "      <td>22.525499</td>\n",
       "      <td>21.931101</td>\n",
       "      <td>22.114000</td>\n",
       "      <td>22.051600</td>\n",
       "      <td>0.0</td>\n",
       "      <td>13.911395</td>\n",
       "    </tr>\n",
       "  </tbody>\n",
       "</table>\n",
       "</div>"
      ],
      "text/plain": [
       "                 High        Low       Open      Close     Volume  Adj Close\n",
       "Date                                                                        \n",
       "2008-01-02  23.635300  21.989300  23.535601  22.030800        0.0  13.887634\n",
       "2008-01-03  22.317699  21.490499  22.114000  21.577700        0.0  13.612426\n",
       "2008-01-04  21.968500  21.137100  21.781401  21.324200  5694095.0  13.452513\n",
       "2008-01-07  21.993401  21.415600  21.428101  21.719101        0.0  13.701629\n",
       "2008-01-08  22.525499  21.931101  22.114000  22.051600        0.0  13.911395"
      ]
     },
     "execution_count": 3,
     "metadata": {},
     "output_type": "execute_result"
    }
   ],
   "source": [
    "BBDC4.head(5)"
   ]
  },
  {
   "cell_type": "code",
   "execution_count": 4,
   "metadata": {},
   "outputs": [
    {
     "data": {
      "text/html": [
       "<div>\n",
       "<style scoped>\n",
       "    .dataframe tbody tr th:only-of-type {\n",
       "        vertical-align: middle;\n",
       "    }\n",
       "\n",
       "    .dataframe tbody tr th {\n",
       "        vertical-align: top;\n",
       "    }\n",
       "\n",
       "    .dataframe thead th {\n",
       "        text-align: right;\n",
       "    }\n",
       "</style>\n",
       "<table border=\"1\" class=\"dataframe\">\n",
       "  <thead>\n",
       "    <tr style=\"text-align: right;\">\n",
       "      <th></th>\n",
       "      <th>High</th>\n",
       "      <th>Low</th>\n",
       "      <th>Open</th>\n",
       "      <th>Close</th>\n",
       "      <th>Volume</th>\n",
       "      <th>Adj Close</th>\n",
       "    </tr>\n",
       "    <tr>\n",
       "      <th>Date</th>\n",
       "      <th></th>\n",
       "      <th></th>\n",
       "      <th></th>\n",
       "      <th></th>\n",
       "      <th></th>\n",
       "      <th></th>\n",
       "    </tr>\n",
       "  </thead>\n",
       "  <tbody>\n",
       "    <tr>\n",
       "      <th>2019-12-02</th>\n",
       "      <td>33.880001</td>\n",
       "      <td>33.389999</td>\n",
       "      <td>33.470001</td>\n",
       "      <td>33.590000</td>\n",
       "      <td>11664800.0</td>\n",
       "      <td>33.571026</td>\n",
       "    </tr>\n",
       "    <tr>\n",
       "      <th>2019-12-03</th>\n",
       "      <td>34.020000</td>\n",
       "      <td>33.549999</td>\n",
       "      <td>33.790001</td>\n",
       "      <td>33.689999</td>\n",
       "      <td>14647300.0</td>\n",
       "      <td>33.689999</td>\n",
       "    </tr>\n",
       "    <tr>\n",
       "      <th>2019-12-04</th>\n",
       "      <td>34.560001</td>\n",
       "      <td>33.700001</td>\n",
       "      <td>33.799999</td>\n",
       "      <td>34.560001</td>\n",
       "      <td>16864100.0</td>\n",
       "      <td>34.560001</td>\n",
       "    </tr>\n",
       "    <tr>\n",
       "      <th>2019-12-05</th>\n",
       "      <td>35.099998</td>\n",
       "      <td>34.480000</td>\n",
       "      <td>34.599998</td>\n",
       "      <td>34.700001</td>\n",
       "      <td>17488200.0</td>\n",
       "      <td>34.700001</td>\n",
       "    </tr>\n",
       "    <tr>\n",
       "      <th>2019-12-06</th>\n",
       "      <td>35.020000</td>\n",
       "      <td>34.279999</td>\n",
       "      <td>34.700001</td>\n",
       "      <td>34.310001</td>\n",
       "      <td>19718900.0</td>\n",
       "      <td>34.310001</td>\n",
       "    </tr>\n",
       "  </tbody>\n",
       "</table>\n",
       "</div>"
      ],
      "text/plain": [
       "                 High        Low       Open      Close      Volume  Adj Close\n",
       "Date                                                                         \n",
       "2019-12-02  33.880001  33.389999  33.470001  33.590000  11664800.0  33.571026\n",
       "2019-12-03  34.020000  33.549999  33.790001  33.689999  14647300.0  33.689999\n",
       "2019-12-04  34.560001  33.700001  33.799999  34.560001  16864100.0  34.560001\n",
       "2019-12-05  35.099998  34.480000  34.599998  34.700001  17488200.0  34.700001\n",
       "2019-12-06  35.020000  34.279999  34.700001  34.310001  19718900.0  34.310001"
      ]
     },
     "execution_count": 4,
     "metadata": {},
     "output_type": "execute_result"
    }
   ],
   "source": [
    "BBDC4.tail(5)"
   ]
  },
  {
   "cell_type": "code",
   "execution_count": 5,
   "metadata": {},
   "outputs": [
    {
     "name": "stdout",
     "output_type": "stream",
     "text": [
      "Date\n",
      "2008-01-02         NaN\n",
      "2008-01-03   -0.019817\n",
      "2008-01-04   -0.011748\n",
      "2008-01-07    0.018518\n",
      "2008-01-08    0.015310\n",
      "                ...   \n",
      "2019-12-02    0.006593\n",
      "2019-12-03    0.003544\n",
      "2019-12-04    0.025824\n",
      "2019-12-05    0.004051\n",
      "2019-12-06   -0.011239\n",
      "Name: Retorno_simples, Length: 2894, dtype: float64\n"
     ]
    }
   ],
   "source": [
    "BBDC4['Retorno_simples'] = (BBDC4['Adj Close'] / BBDC4['Adj Close'].shift(1)) - 1\n",
    "print(BBDC4['Retorno_simples'])"
   ]
  },
  {
   "cell_type": "code",
   "execution_count": 6,
   "metadata": {},
   "outputs": [
    {
     "data": {
      "image/png": "[encoded data removed]",
      "text/plain": [
       "<Figure size 1152x504 with 1 Axes>"
      ]
     },
     "metadata": {
      "needs_background": "light"
     },
     "output_type": "display_data"
    }
   ],
   "source": [
    "BBDC4['Retorno_simples'].plot(figsize=(16, 7))\n",
    "plt.show()"
   ]
  },
  {
   "cell_type": "code",
   "execution_count": 7,
   "metadata": {},
   "outputs": [
    {
     "data": {
      "text/plain": [
       "0.0006055585216011521"
      ]
     },
     "execution_count": 7,
     "metadata": {},
     "output_type": "execute_result"
    }
   ],
   "source": [
    "#Calculo da taxa de retorno médio diario\n",
    "RMD = BBDC4['Retorno_simples'].mean()\n",
    "RMD"
   ]
  },
  {
   "cell_type": "code",
   "execution_count": 8,
   "metadata": {},
   "outputs": [
    {
     "data": {
      "text/plain": [
       "0.15138963040028802"
      ]
     },
     "execution_count": 8,
     "metadata": {},
     "output_type": "execute_result"
    }
   ],
   "source": [
    "#Calculo da taxa de retorno médio anual\n",
    "RMA = BBDC4['Retorno_simples'].mean() * 250\n",
    "RMA"
   ]
  },
  {
   "cell_type": "code",
   "execution_count": 10,
   "metadata": {},
   "outputs": [
    {
     "name": "stdout",
     "output_type": "stream",
     "text": [
      "Taxa de retorno médio anual: 15.139%\n"
     ]
    }
   ],
   "source": [
    "print('Taxa de retorno médio anual: ' + str(round(RMA, 5) * 100) + '%')"
   ]
  },
  {
   "cell_type": "code",
   "execution_count": null,
   "metadata": {},
   "outputs": [],
   "source": []
  }
 ],
 "metadata": {
  "kernelspec": {
   "display_name": "Python 3",
   "language": "python",
   "name": "python3"
  },
  "language_info": {
   "codemirror_mode": {
    "name": "ipython",
    "version": 3
   },
   "file_extension": ".py",
   "mimetype": "text/x-python",
   "name": "python",
   "nbconvert_exporter": "python",
   "pygments_lexer": "ipython3",
   "version": "3.7.0"
  }
 },
 "nbformat": 4,
 "nbformat_minor": 2
}
