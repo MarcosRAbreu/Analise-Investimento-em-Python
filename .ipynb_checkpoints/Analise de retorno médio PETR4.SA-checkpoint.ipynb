{
 "cells": [
  {
   "cell_type": "code",
   "execution_count": 1,
   "metadata": {},
   "outputs": [],
   "source": [
    "import numpy as np\n",
    "from pandas_datareader import data as wb\n",
    "import matplotlib.pyplot as plt"
   ]
  },
  {
   "cell_type": "code",
   "execution_count": 2,
   "metadata": {},
   "outputs": [],
   "source": [
    "PETR4 = wb.DataReader('PETR4.SA', data_source='yahoo', start='1995-1-1')"
   ]
  },
  {
   "cell_type": "code",
   "execution_count": 3,
   "metadata": {},
   "outputs": [
    {
     "data": {
      "text/html": [
       "<div>\n",
       "<style scoped>\n",
       "    .dataframe tbody tr th:only-of-type {\n",
       "        vertical-align: middle;\n",
       "    }\n",
       "\n",
       "    .dataframe tbody tr th {\n",
       "        vertical-align: top;\n",
       "    }\n",
       "\n",
       "    .dataframe thead th {\n",
       "        text-align: right;\n",
       "    }\n",
       "</style>\n",
       "<table border=\"1\" class=\"dataframe\">\n",
       "  <thead>\n",
       "    <tr style=\"text-align: right;\">\n",
       "      <th></th>\n",
       "      <th>High</th>\n",
       "      <th>Low</th>\n",
       "      <th>Open</th>\n",
       "      <th>Close</th>\n",
       "      <th>Volume</th>\n",
       "      <th>Adj Close</th>\n",
       "    </tr>\n",
       "    <tr>\n",
       "      <th>Date</th>\n",
       "      <th></th>\n",
       "      <th></th>\n",
       "      <th></th>\n",
       "      <th></th>\n",
       "      <th></th>\n",
       "      <th></th>\n",
       "    </tr>\n",
       "  </thead>\n",
       "  <tbody>\n",
       "    <tr>\n",
       "      <th>2000-01-03</th>\n",
       "      <td>5.875</td>\n",
       "      <td>5.875</td>\n",
       "      <td>5.875</td>\n",
       "      <td>5.875</td>\n",
       "      <td>3.538944e+10</td>\n",
       "      <td>4.106585</td>\n",
       "    </tr>\n",
       "    <tr>\n",
       "      <th>2000-01-04</th>\n",
       "      <td>5.550</td>\n",
       "      <td>5.550</td>\n",
       "      <td>5.550</td>\n",
       "      <td>5.550</td>\n",
       "      <td>2.886144e+10</td>\n",
       "      <td>3.879412</td>\n",
       "    </tr>\n",
       "    <tr>\n",
       "      <th>2000-01-05</th>\n",
       "      <td>5.494</td>\n",
       "      <td>5.494</td>\n",
       "      <td>5.494</td>\n",
       "      <td>5.494</td>\n",
       "      <td>4.303360e+10</td>\n",
       "      <td>3.840268</td>\n",
       "    </tr>\n",
       "    <tr>\n",
       "      <th>2000-01-06</th>\n",
       "      <td>5.475</td>\n",
       "      <td>5.475</td>\n",
       "      <td>5.475</td>\n",
       "      <td>5.475</td>\n",
       "      <td>3.405568e+10</td>\n",
       "      <td>3.826987</td>\n",
       "    </tr>\n",
       "    <tr>\n",
       "      <th>2000-01-07</th>\n",
       "      <td>5.500</td>\n",
       "      <td>5.500</td>\n",
       "      <td>5.500</td>\n",
       "      <td>5.500</td>\n",
       "      <td>2.091264e+10</td>\n",
       "      <td>3.844462</td>\n",
       "    </tr>\n",
       "  </tbody>\n",
       "</table>\n",
       "</div>"
      ],
      "text/plain": [
       "             High    Low   Open  Close        Volume  Adj Close\n",
       "Date                                                           \n",
       "2000-01-03  5.875  5.875  5.875  5.875  3.538944e+10   4.106585\n",
       "2000-01-04  5.550  5.550  5.550  5.550  2.886144e+10   3.879412\n",
       "2000-01-05  5.494  5.494  5.494  5.494  4.303360e+10   3.840268\n",
       "2000-01-06  5.475  5.475  5.475  5.475  3.405568e+10   3.826987\n",
       "2000-01-07  5.500  5.500  5.500  5.500  2.091264e+10   3.844462"
      ]
     },
     "execution_count": 3,
     "metadata": {},
     "output_type": "execute_result"
    }
   ],
   "source": [
    "PETR4.head(5)"
   ]
  },
  {
   "cell_type": "code",
   "execution_count": 4,
   "metadata": {},
   "outputs": [
    {
     "data": {
      "text/html": [
       "<div>\n",
       "<style scoped>\n",
       "    .dataframe tbody tr th:only-of-type {\n",
       "        vertical-align: middle;\n",
       "    }\n",
       "\n",
       "    .dataframe tbody tr th {\n",
       "        vertical-align: top;\n",
       "    }\n",
       "\n",
       "    .dataframe thead th {\n",
       "        text-align: right;\n",
       "    }\n",
       "</style>\n",
       "<table border=\"1\" class=\"dataframe\">\n",
       "  <thead>\n",
       "    <tr style=\"text-align: right;\">\n",
       "      <th></th>\n",
       "      <th>High</th>\n",
       "      <th>Low</th>\n",
       "      <th>Open</th>\n",
       "      <th>Close</th>\n",
       "      <th>Volume</th>\n",
       "      <th>Adj Close</th>\n",
       "    </tr>\n",
       "    <tr>\n",
       "      <th>Date</th>\n",
       "      <th></th>\n",
       "      <th></th>\n",
       "      <th></th>\n",
       "      <th></th>\n",
       "      <th></th>\n",
       "      <th></th>\n",
       "    </tr>\n",
       "  </thead>\n",
       "  <tbody>\n",
       "    <tr>\n",
       "      <th>2019-12-02</th>\n",
       "      <td>29.500000</td>\n",
       "      <td>29.070000</td>\n",
       "      <td>29.400000</td>\n",
       "      <td>29.070000</td>\n",
       "      <td>31353600.0</td>\n",
       "      <td>29.070000</td>\n",
       "    </tr>\n",
       "    <tr>\n",
       "      <th>2019-12-03</th>\n",
       "      <td>29.190001</td>\n",
       "      <td>28.730000</td>\n",
       "      <td>29.170000</td>\n",
       "      <td>28.980000</td>\n",
       "      <td>29194000.0</td>\n",
       "      <td>28.980000</td>\n",
       "    </tr>\n",
       "    <tr>\n",
       "      <th>2019-12-04</th>\n",
       "      <td>29.660000</td>\n",
       "      <td>29.110001</td>\n",
       "      <td>29.260000</td>\n",
       "      <td>29.660000</td>\n",
       "      <td>44960000.0</td>\n",
       "      <td>29.660000</td>\n",
       "    </tr>\n",
       "    <tr>\n",
       "      <th>2019-12-05</th>\n",
       "      <td>30.389999</td>\n",
       "      <td>29.520000</td>\n",
       "      <td>29.639999</td>\n",
       "      <td>30.049999</td>\n",
       "      <td>50447000.0</td>\n",
       "      <td>30.049999</td>\n",
       "    </tr>\n",
       "    <tr>\n",
       "      <th>2019-12-06</th>\n",
       "      <td>30.590000</td>\n",
       "      <td>30.129999</td>\n",
       "      <td>30.150000</td>\n",
       "      <td>30.350000</td>\n",
       "      <td>44348600.0</td>\n",
       "      <td>30.350000</td>\n",
       "    </tr>\n",
       "  </tbody>\n",
       "</table>\n",
       "</div>"
      ],
      "text/plain": [
       "                 High        Low       Open      Close      Volume  Adj Close\n",
       "Date                                                                         \n",
       "2019-12-02  29.500000  29.070000  29.400000  29.070000  31353600.0  29.070000\n",
       "2019-12-03  29.190001  28.730000  29.170000  28.980000  29194000.0  28.980000\n",
       "2019-12-04  29.660000  29.110001  29.260000  29.660000  44960000.0  29.660000\n",
       "2019-12-05  30.389999  29.520000  29.639999  30.049999  50447000.0  30.049999\n",
       "2019-12-06  30.590000  30.129999  30.150000  30.350000  44348600.0  30.350000"
      ]
     },
     "execution_count": 4,
     "metadata": {},
     "output_type": "execute_result"
    }
   ],
   "source": [
    "PETR4.tail(5)"
   ]
  },
  {
   "cell_type": "code",
   "execution_count": 5,
   "metadata": {},
   "outputs": [
    {
     "name": "stdout",
     "output_type": "stream",
     "text": [
      "Date\n",
      "2000-01-03         NaN\n",
      "2000-01-04   -0.055319\n",
      "2000-01-05   -0.010090\n",
      "2000-01-06   -0.003458\n",
      "2000-01-07    0.004566\n",
      "                ...   \n",
      "2019-12-02   -0.002744\n",
      "2019-12-03   -0.003096\n",
      "2019-12-04    0.023464\n",
      "2019-12-05    0.013149\n",
      "2019-12-06    0.009983\n",
      "Name: Retorno_simples, Length: 4898, dtype: float64\n"
     ]
    }
   ],
   "source": [
    "PETR4['Retorno_simples'] = (PETR4['Adj Close'] / PETR4['Adj Close'].shift(1)) - 1\n",
    "print(PETR4['Retorno_simples'])"
   ]
  },
  {
   "cell_type": "code",
   "execution_count": 6,
   "metadata": {},
   "outputs": [
    {
     "data": {
      "image/png": "[encoded data removed]",
      "text/plain": [
       "<Figure size 1152x504 with 1 Axes>"
      ]
     },
     "metadata": {
      "needs_background": "light"
     },
     "output_type": "display_data"
    }
   ],
   "source": [
    "PETR4['Retorno_simples'].plot(figsize=(16, 7))\n",
    "plt.show()"
   ]
  },
  {
   "cell_type": "code",
   "execution_count": 7,
   "metadata": {},
   "outputs": [
    {
     "data": {
      "text/plain": [
       "0.0007515199549631124"
      ]
     },
     "execution_count": 7,
     "metadata": {},
     "output_type": "execute_result"
    }
   ],
   "source": [
    "#Calculo da taxa de retorno médio diario\n",
    "RMD = PETR4['Retorno_simples'].mean()\n",
    "RMD"
   ]
  },
  {
   "cell_type": "code",
   "execution_count": 8,
   "metadata": {},
   "outputs": [
    {
     "data": {
      "text/plain": [
       "0.18787998874077808"
      ]
     },
     "execution_count": 8,
     "metadata": {},
     "output_type": "execute_result"
    }
   ],
   "source": [
    "#Calculo da taxa de retorno médio anual\n",
    "RMA = PETR4['Retorno_simples'].mean() * 250\n",
    "RMA"
   ]
  },
  {
   "cell_type": "code",
   "execution_count": 9,
   "metadata": {},
   "outputs": [
    {
     "name": "stdout",
     "output_type": "stream",
     "text": [
      "Taxa de retorno médio anual: 18.788%\n"
     ]
    }
   ],
   "source": [
    "print('Taxa de retorno médio anual: ' + str(round(RMA, 5) * 100) + '%')"
   ]
  },
  {
   "cell_type": "code",
   "execution_count": null,
   "metadata": {},
   "outputs": [],
   "source": []
  }
 ],
 "metadata": {
  "kernelspec": {
   "display_name": "Python 3",
   "language": "python",
   "name": "python3"
  },
  "language_info": {
   "codemirror_mode": {
    "name": "ipython",
    "version": 3
   },
   "file_extension": ".py",
   "mimetype": "text/x-python",
   "name": "python",
   "nbconvert_exporter": "python",
   "pygments_lexer": "ipython3",
   "version": "3.7.0"
  }
 },
 "nbformat": 4,
 "nbformat_minor": 2
}
