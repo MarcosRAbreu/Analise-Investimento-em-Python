{
 "cells": [
  {
   "cell_type": "code",
   "execution_count": 1,
   "metadata": {},
   "outputs": [],
   "source": [
    "import numpy as np\n",
    "from pandas_datareader import data as wb\n",
    "import matplotlib.pyplot as plt"
   ]
  },
  {
   "cell_type": "code",
   "execution_count": 2,
   "metadata": {},
   "outputs": [],
   "source": [
    "SeP500 = wb.DataReader('^GSPC', data_source='yahoo', start='1995-1-1')"
   ]
  },
  {
   "cell_type": "code",
   "execution_count": 3,
   "metadata": {},
   "outputs": [
    {
     "data": {
      "text/html": [
       "<div>\n",
       "<style scoped>\n",
       "    .dataframe tbody tr th:only-of-type {\n",
       "        vertical-align: middle;\n",
       "    }\n",
       "\n",
       "    .dataframe tbody tr th {\n",
       "        vertical-align: top;\n",
       "    }\n",
       "\n",
       "    .dataframe thead th {\n",
       "        text-align: right;\n",
       "    }\n",
       "</style>\n",
       "<table border=\"1\" class=\"dataframe\">\n",
       "  <thead>\n",
       "    <tr style=\"text-align: right;\">\n",
       "      <th></th>\n",
       "      <th>High</th>\n",
       "      <th>Low</th>\n",
       "      <th>Open</th>\n",
       "      <th>Close</th>\n",
       "      <th>Volume</th>\n",
       "      <th>Adj Close</th>\n",
       "    </tr>\n",
       "    <tr>\n",
       "      <th>Date</th>\n",
       "      <th></th>\n",
       "      <th></th>\n",
       "      <th></th>\n",
       "      <th></th>\n",
       "      <th></th>\n",
       "      <th></th>\n",
       "    </tr>\n",
       "  </thead>\n",
       "  <tbody>\n",
       "    <tr>\n",
       "      <th>1995-01-03</th>\n",
       "      <td>459.269989</td>\n",
       "      <td>457.200012</td>\n",
       "      <td>459.209991</td>\n",
       "      <td>459.109985</td>\n",
       "      <td>262450000</td>\n",
       "      <td>459.109985</td>\n",
       "    </tr>\n",
       "    <tr>\n",
       "      <th>1995-01-04</th>\n",
       "      <td>460.720001</td>\n",
       "      <td>457.559998</td>\n",
       "      <td>459.130005</td>\n",
       "      <td>460.709991</td>\n",
       "      <td>319510000</td>\n",
       "      <td>460.709991</td>\n",
       "    </tr>\n",
       "    <tr>\n",
       "      <th>1995-01-05</th>\n",
       "      <td>461.299988</td>\n",
       "      <td>459.750000</td>\n",
       "      <td>460.730011</td>\n",
       "      <td>460.339996</td>\n",
       "      <td>309050000</td>\n",
       "      <td>460.339996</td>\n",
       "    </tr>\n",
       "    <tr>\n",
       "      <th>1995-01-06</th>\n",
       "      <td>462.489990</td>\n",
       "      <td>459.470001</td>\n",
       "      <td>460.380005</td>\n",
       "      <td>460.679993</td>\n",
       "      <td>308070000</td>\n",
       "      <td>460.679993</td>\n",
       "    </tr>\n",
       "    <tr>\n",
       "      <th>1995-01-09</th>\n",
       "      <td>461.769989</td>\n",
       "      <td>459.739990</td>\n",
       "      <td>460.670013</td>\n",
       "      <td>460.829987</td>\n",
       "      <td>278790000</td>\n",
       "      <td>460.829987</td>\n",
       "    </tr>\n",
       "  </tbody>\n",
       "</table>\n",
       "</div>"
      ],
      "text/plain": [
       "                  High         Low        Open       Close     Volume  \\\n",
       "Date                                                                    \n",
       "1995-01-03  459.269989  457.200012  459.209991  459.109985  262450000   \n",
       "1995-01-04  460.720001  457.559998  459.130005  460.709991  319510000   \n",
       "1995-01-05  461.299988  459.750000  460.730011  460.339996  309050000   \n",
       "1995-01-06  462.489990  459.470001  460.380005  460.679993  308070000   \n",
       "1995-01-09  461.769989  459.739990  460.670013  460.829987  278790000   \n",
       "\n",
       "             Adj Close  \n",
       "Date                    \n",
       "1995-01-03  459.109985  \n",
       "1995-01-04  460.709991  \n",
       "1995-01-05  460.339996  \n",
       "1995-01-06  460.679993  \n",
       "1995-01-09  460.829987  "
      ]
     },
     "execution_count": 3,
     "metadata": {},
     "output_type": "execute_result"
    }
   ],
   "source": [
    "SeP500.head(5)"
   ]
  },
  {
   "cell_type": "code",
   "execution_count": 4,
   "metadata": {},
   "outputs": [
    {
     "data": {
      "text/html": [
       "<div>\n",
       "<style scoped>\n",
       "    .dataframe tbody tr th:only-of-type {\n",
       "        vertical-align: middle;\n",
       "    }\n",
       "\n",
       "    .dataframe tbody tr th {\n",
       "        vertical-align: top;\n",
       "    }\n",
       "\n",
       "    .dataframe thead th {\n",
       "        text-align: right;\n",
       "    }\n",
       "</style>\n",
       "<table border=\"1\" class=\"dataframe\">\n",
       "  <thead>\n",
       "    <tr style=\"text-align: right;\">\n",
       "      <th></th>\n",
       "      <th>High</th>\n",
       "      <th>Low</th>\n",
       "      <th>Open</th>\n",
       "      <th>Close</th>\n",
       "      <th>Volume</th>\n",
       "      <th>Adj Close</th>\n",
       "    </tr>\n",
       "    <tr>\n",
       "      <th>Date</th>\n",
       "      <th></th>\n",
       "      <th></th>\n",
       "      <th></th>\n",
       "      <th></th>\n",
       "      <th></th>\n",
       "      <th></th>\n",
       "    </tr>\n",
       "  </thead>\n",
       "  <tbody>\n",
       "    <tr>\n",
       "      <th>2019-12-02</th>\n",
       "      <td>3144.310059</td>\n",
       "      <td>3110.780029</td>\n",
       "      <td>3143.850098</td>\n",
       "      <td>3113.870117</td>\n",
       "      <td>3268740000</td>\n",
       "      <td>3113.870117</td>\n",
       "    </tr>\n",
       "    <tr>\n",
       "      <th>2019-12-03</th>\n",
       "      <td>3094.969971</td>\n",
       "      <td>3070.330078</td>\n",
       "      <td>3087.409912</td>\n",
       "      <td>3093.199951</td>\n",
       "      <td>3653390000</td>\n",
       "      <td>3093.199951</td>\n",
       "    </tr>\n",
       "    <tr>\n",
       "      <th>2019-12-04</th>\n",
       "      <td>3119.379883</td>\n",
       "      <td>3102.530029</td>\n",
       "      <td>3103.500000</td>\n",
       "      <td>3112.760010</td>\n",
       "      <td>3695030000</td>\n",
       "      <td>3112.760010</td>\n",
       "    </tr>\n",
       "    <tr>\n",
       "      <th>2019-12-05</th>\n",
       "      <td>3119.449951</td>\n",
       "      <td>3103.760010</td>\n",
       "      <td>3119.209961</td>\n",
       "      <td>3117.429932</td>\n",
       "      <td>3355750000</td>\n",
       "      <td>3117.429932</td>\n",
       "    </tr>\n",
       "    <tr>\n",
       "      <th>2019-12-06</th>\n",
       "      <td>3150.600098</td>\n",
       "      <td>3134.620117</td>\n",
       "      <td>3134.620117</td>\n",
       "      <td>3145.909912</td>\n",
       "      <td>1699014299</td>\n",
       "      <td>3145.909912</td>\n",
       "    </tr>\n",
       "  </tbody>\n",
       "</table>\n",
       "</div>"
      ],
      "text/plain": [
       "                   High          Low         Open        Close      Volume  \\\n",
       "Date                                                                         \n",
       "2019-12-02  3144.310059  3110.780029  3143.850098  3113.870117  3268740000   \n",
       "2019-12-03  3094.969971  3070.330078  3087.409912  3093.199951  3653390000   \n",
       "2019-12-04  3119.379883  3102.530029  3103.500000  3112.760010  3695030000   \n",
       "2019-12-05  3119.449951  3103.760010  3119.209961  3117.429932  3355750000   \n",
       "2019-12-06  3150.600098  3134.620117  3134.620117  3145.909912  1699014299   \n",
       "\n",
       "              Adj Close  \n",
       "Date                     \n",
       "2019-12-02  3113.870117  \n",
       "2019-12-03  3093.199951  \n",
       "2019-12-04  3112.760010  \n",
       "2019-12-05  3117.429932  \n",
       "2019-12-06  3145.909912  "
      ]
     },
     "execution_count": 4,
     "metadata": {},
     "output_type": "execute_result"
    }
   ],
   "source": [
    "SeP500.tail(5)"
   ]
  },
  {
   "cell_type": "code",
   "execution_count": 5,
   "metadata": {},
   "outputs": [
    {
     "name": "stdout",
     "output_type": "stream",
     "text": [
      "Date\n",
      "1995-01-03         NaN\n",
      "1995-01-04    0.003485\n",
      "1995-01-05   -0.000803\n",
      "1995-01-06    0.000739\n",
      "1995-01-09    0.000326\n",
      "                ...   \n",
      "2019-12-02   -0.008631\n",
      "2019-12-03   -0.006638\n",
      "2019-12-04    0.006324\n",
      "2019-12-05    0.001500\n",
      "2019-12-06    0.009136\n",
      "Name: Retorno_simples, Length: 6278, dtype: float64\n"
     ]
    }
   ],
   "source": [
    "SeP500['Retorno_simples'] = (SeP500['Adj Close'] / SeP500['Adj Close'].shift(1)) - 1\n",
    "print(SeP500['Retorno_simples'])"
   ]
  },
  {
   "cell_type": "code",
   "execution_count": 6,
   "metadata": {},
   "outputs": [
    {
     "data": {
      "image/png": "[encoded data removed]",
      "text/plain": [
       "<Figure size 1152x504 with 1 Axes>"
      ]
     },
     "metadata": {
      "needs_background": "light"
     },
     "output_type": "display_data"
    }
   ],
   "source": [
    "SeP500['Retorno_simples'].plot(figsize=(16, 7))\n",
    "plt.show()"
   ]
  },
  {
   "cell_type": "code",
   "execution_count": 7,
   "metadata": {},
   "outputs": [
    {
     "data": {
      "text/plain": [
       "0.00037345402290717226"
      ]
     },
     "execution_count": 7,
     "metadata": {},
     "output_type": "execute_result"
    }
   ],
   "source": [
    "#Calculo da taxa de retorno médio diario\n",
    "RMD = SeP500['Retorno_simples'].mean()\n",
    "RMD"
   ]
  },
  {
   "cell_type": "code",
   "execution_count": 8,
   "metadata": {},
   "outputs": [
    {
     "data": {
      "text/plain": [
       "0.09336350572679307"
      ]
     },
     "execution_count": 8,
     "metadata": {},
     "output_type": "execute_result"
    }
   ],
   "source": [
    "#Calculo da taxa de retorno médio anual\n",
    "RMA = SeP500['Retorno_simples'].mean() * 250\n",
    "RMA"
   ]
  },
  {
   "cell_type": "code",
   "execution_count": 9,
   "metadata": {},
   "outputs": [
    {
     "name": "stdout",
     "output_type": "stream",
     "text": [
      "Taxa de retorno médio anual: 9.336%\n"
     ]
    }
   ],
   "source": [
    "print('Taxa de retorno médio anual: ' + str(round(RMA, 5) * 100) + '%')"
   ]
  },
  {
   "cell_type": "code",
   "execution_count": null,
   "metadata": {},
   "outputs": [],
   "source": []
  }
 ],
 "metadata": {
  "kernelspec": {
   "display_name": "Python 3",
   "language": "python",
   "name": "python3"
  },
  "language_info": {
   "codemirror_mode": {
    "name": "ipython",
    "version": 3
   },
   "file_extension": ".py",
   "mimetype": "text/x-python",
   "name": "python",
   "nbconvert_exporter": "python",
   "pygments_lexer": "ipython3",
   "version": "3.7.0"
  }
 },
 "nbformat": 4,
 "nbformat_minor": 2
}
