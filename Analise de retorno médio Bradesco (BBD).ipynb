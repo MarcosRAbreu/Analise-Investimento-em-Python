{
 "cells": [
  {
   "cell_type": "code",
   "execution_count": 1,
   "metadata": {},
   "outputs": [],
   "source": [
    "import numpy as np\n",
    "from pandas_datareader import data as wb\n",
    "import matplotlib.pyplot as plt"
   ]
  },
  {
   "cell_type": "code",
   "execution_count": 2,
   "metadata": {},
   "outputs": [],
   "source": [
    "Brad = wb.DataReader('BBD', data_source='yahoo', start='1995-1-1')"
   ]
  },
  {
   "cell_type": "code",
   "execution_count": 3,
   "metadata": {},
   "outputs": [
    {
     "data": {
      "text/html": [
       "<div>\n",
       "<style scoped>\n",
       "    .dataframe tbody tr th:only-of-type {\n",
       "        vertical-align: middle;\n",
       "    }\n",
       "\n",
       "    .dataframe tbody tr th {\n",
       "        vertical-align: top;\n",
       "    }\n",
       "\n",
       "    .dataframe thead th {\n",
       "        text-align: right;\n",
       "    }\n",
       "</style>\n",
       "<table border=\"1\" class=\"dataframe\">\n",
       "  <thead>\n",
       "    <tr style=\"text-align: right;\">\n",
       "      <th></th>\n",
       "      <th>High</th>\n",
       "      <th>Low</th>\n",
       "      <th>Open</th>\n",
       "      <th>Close</th>\n",
       "      <th>Volume</th>\n",
       "      <th>Adj Close</th>\n",
       "    </tr>\n",
       "    <tr>\n",
       "      <th>Date</th>\n",
       "      <th></th>\n",
       "      <th></th>\n",
       "      <th></th>\n",
       "      <th></th>\n",
       "      <th></th>\n",
       "      <th></th>\n",
       "    </tr>\n",
       "  </thead>\n",
       "  <tbody>\n",
       "    <tr>\n",
       "      <th>2002-08-02</th>\n",
       "      <td>1.066450</td>\n",
       "      <td>1.010797</td>\n",
       "      <td>1.019145</td>\n",
       "      <td>1.055319</td>\n",
       "      <td>7828300.0</td>\n",
       "      <td>0.113302</td>\n",
       "    </tr>\n",
       "    <tr>\n",
       "      <th>2002-08-05</th>\n",
       "      <td>1.050449</td>\n",
       "      <td>0.999666</td>\n",
       "      <td>1.039319</td>\n",
       "      <td>1.000362</td>\n",
       "      <td>4956200.0</td>\n",
       "      <td>0.107402</td>\n",
       "    </tr>\n",
       "    <tr>\n",
       "      <th>2002-08-06</th>\n",
       "      <td>1.053232</td>\n",
       "      <td>0.989927</td>\n",
       "      <td>1.003840</td>\n",
       "      <td>1.045580</td>\n",
       "      <td>6641000.0</td>\n",
       "      <td>0.112257</td>\n",
       "    </tr>\n",
       "    <tr>\n",
       "      <th>2002-08-07</th>\n",
       "      <td>1.120711</td>\n",
       "      <td>1.076885</td>\n",
       "      <td>1.078276</td>\n",
       "      <td>1.120016</td>\n",
       "      <td>3007000.0</td>\n",
       "      <td>0.120248</td>\n",
       "    </tr>\n",
       "    <tr>\n",
       "      <th>2002-08-08</th>\n",
       "      <td>1.293931</td>\n",
       "      <td>1.250800</td>\n",
       "      <td>1.280018</td>\n",
       "      <td>1.259148</td>\n",
       "      <td>8733900.0</td>\n",
       "      <td>0.135186</td>\n",
       "    </tr>\n",
       "  </tbody>\n",
       "</table>\n",
       "</div>"
      ],
      "text/plain": [
       "                High       Low      Open     Close     Volume  Adj Close\n",
       "Date                                                                    \n",
       "2002-08-02  1.066450  1.010797  1.019145  1.055319  7828300.0   0.113302\n",
       "2002-08-05  1.050449  0.999666  1.039319  1.000362  4956200.0   0.107402\n",
       "2002-08-06  1.053232  0.989927  1.003840  1.045580  6641000.0   0.112257\n",
       "2002-08-07  1.120711  1.076885  1.078276  1.120016  3007000.0   0.120248\n",
       "2002-08-08  1.293931  1.250800  1.280018  1.259148  8733900.0   0.135186"
      ]
     },
     "execution_count": 3,
     "metadata": {},
     "output_type": "execute_result"
    }
   ],
   "source": [
    "Brad.head(5)"
   ]
  },
  {
   "cell_type": "code",
   "execution_count": 4,
   "metadata": {},
   "outputs": [
    {
     "data": {
      "text/html": [
       "<div>\n",
       "<style scoped>\n",
       "    .dataframe tbody tr th:only-of-type {\n",
       "        vertical-align: middle;\n",
       "    }\n",
       "\n",
       "    .dataframe tbody tr th {\n",
       "        vertical-align: top;\n",
       "    }\n",
       "\n",
       "    .dataframe thead th {\n",
       "        text-align: right;\n",
       "    }\n",
       "</style>\n",
       "<table border=\"1\" class=\"dataframe\">\n",
       "  <thead>\n",
       "    <tr style=\"text-align: right;\">\n",
       "      <th></th>\n",
       "      <th>High</th>\n",
       "      <th>Low</th>\n",
       "      <th>Open</th>\n",
       "      <th>Close</th>\n",
       "      <th>Volume</th>\n",
       "      <th>Adj Close</th>\n",
       "    </tr>\n",
       "    <tr>\n",
       "      <th>Date</th>\n",
       "      <th></th>\n",
       "      <th></th>\n",
       "      <th></th>\n",
       "      <th></th>\n",
       "      <th></th>\n",
       "      <th></th>\n",
       "    </tr>\n",
       "  </thead>\n",
       "  <tbody>\n",
       "    <tr>\n",
       "      <th>2019-12-02</th>\n",
       "      <td>7.99</td>\n",
       "      <td>7.91</td>\n",
       "      <td>7.93</td>\n",
       "      <td>7.95</td>\n",
       "      <td>12013100.0</td>\n",
       "      <td>7.945479</td>\n",
       "    </tr>\n",
       "    <tr>\n",
       "      <th>2019-12-03</th>\n",
       "      <td>8.04</td>\n",
       "      <td>7.94</td>\n",
       "      <td>8.01</td>\n",
       "      <td>8.00</td>\n",
       "      <td>8650400.0</td>\n",
       "      <td>8.000000</td>\n",
       "    </tr>\n",
       "    <tr>\n",
       "      <th>2019-12-04</th>\n",
       "      <td>8.19</td>\n",
       "      <td>8.03</td>\n",
       "      <td>8.05</td>\n",
       "      <td>8.16</td>\n",
       "      <td>11491200.0</td>\n",
       "      <td>8.160000</td>\n",
       "    </tr>\n",
       "    <tr>\n",
       "      <th>2019-12-05</th>\n",
       "      <td>8.32</td>\n",
       "      <td>8.20</td>\n",
       "      <td>8.25</td>\n",
       "      <td>8.24</td>\n",
       "      <td>10853600.0</td>\n",
       "      <td>8.240000</td>\n",
       "    </tr>\n",
       "    <tr>\n",
       "      <th>2019-12-06</th>\n",
       "      <td>8.33</td>\n",
       "      <td>8.19</td>\n",
       "      <td>8.33</td>\n",
       "      <td>8.28</td>\n",
       "      <td>12468032.0</td>\n",
       "      <td>8.280000</td>\n",
       "    </tr>\n",
       "  </tbody>\n",
       "</table>\n",
       "</div>"
      ],
      "text/plain": [
       "            High   Low  Open  Close      Volume  Adj Close\n",
       "Date                                                      \n",
       "2019-12-02  7.99  7.91  7.93   7.95  12013100.0   7.945479\n",
       "2019-12-03  8.04  7.94  8.01   8.00   8650400.0   8.000000\n",
       "2019-12-04  8.19  8.03  8.05   8.16  11491200.0   8.160000\n",
       "2019-12-05  8.32  8.20  8.25   8.24  10853600.0   8.240000\n",
       "2019-12-06  8.33  8.19  8.33   8.28  12468032.0   8.280000"
      ]
     },
     "execution_count": 4,
     "metadata": {},
     "output_type": "execute_result"
    }
   ],
   "source": [
    "Brad.tail(5)"
   ]
  },
  {
   "cell_type": "code",
   "execution_count": 5,
   "metadata": {},
   "outputs": [
    {
     "name": "stdout",
     "output_type": "stream",
     "text": [
      "Date\n",
      "2002-08-02         NaN\n",
      "2002-08-05   -0.052076\n",
      "2002-08-06    0.045201\n",
      "2002-08-07    0.071192\n",
      "2002-08-08    0.124222\n",
      "                ...   \n",
      "2019-12-02    0.012739\n",
      "2019-12-03    0.006862\n",
      "2019-12-04    0.020000\n",
      "2019-12-05    0.009804\n",
      "2019-12-06    0.004854\n",
      "Name: Retorno_simples, Length: 4368, dtype: float64\n"
     ]
    }
   ],
   "source": [
    "Brad['Retorno_simples'] = (Brad['Adj Close'] / Brad['Adj Close'].shift(1)) - 1\n",
    "print(Brad['Retorno_simples'])"
   ]
  },
  {
   "cell_type": "code",
   "execution_count": 6,
   "metadata": {},
   "outputs": [
    {
     "data": {
      "image/png": "[encoded data removed]",
      "text/plain": [
       "<Figure size 1152x504 with 1 Axes>"
      ]
     },
     "metadata": {
      "needs_background": "light"
     },
     "output_type": "display_data"
    }
   ],
   "source": [
    "Brad['Retorno_simples'].plot(figsize=(16, 7))\n",
    "plt.show()"
   ]
  },
  {
   "cell_type": "code",
   "execution_count": 7,
   "metadata": {},
   "outputs": [
    {
     "data": {
      "text/plain": [
       "0.0014253591212889396"
      ]
     },
     "execution_count": 7,
     "metadata": {},
     "output_type": "execute_result"
    }
   ],
   "source": [
    "#Calculo da taxa de retorno médio diario\n",
    "RMD = Brad['Retorno_simples'].mean()\n",
    "RMD"
   ]
  },
  {
   "cell_type": "code",
   "execution_count": 8,
   "metadata": {},
   "outputs": [
    {
     "data": {
      "text/plain": [
       "0.3563397803222349"
      ]
     },
     "execution_count": 8,
     "metadata": {},
     "output_type": "execute_result"
    }
   ],
   "source": [
    "#Calculo da taxa de retorno médio anual\n",
    "RMA = Brad['Retorno_simples'].mean() * 250\n",
    "RMA"
   ]
  },
  {
   "cell_type": "code",
   "execution_count": 9,
   "metadata": {},
   "outputs": [
    {
     "name": "stdout",
     "output_type": "stream",
     "text": [
      "Taxa de retorno médio anual: 35.634%\n"
     ]
    }
   ],
   "source": [
    "print('Taxa de retorno médio anual: ' + str(round(RMA, 5) * 100) + '%')"
   ]
  },
  {
   "cell_type": "code",
   "execution_count": null,
   "metadata": {},
   "outputs": [],
   "source": []
  }
 ],
 "metadata": {
  "kernelspec": {
   "display_name": "Python 3",
   "language": "python",
   "name": "python3"
  },
  "language_info": {
   "codemirror_mode": {
    "name": "ipython",
    "version": 3
   },
   "file_extension": ".py",
   "mimetype": "text/x-python",
   "name": "python",
   "nbconvert_exporter": "python",
   "pygments_lexer": "ipython3",
   "version": "3.7.0"
  }
 },
 "nbformat": 4,
 "nbformat_minor": 2
}
